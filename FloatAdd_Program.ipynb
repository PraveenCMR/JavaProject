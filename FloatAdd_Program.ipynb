{
  "nbformat": 4,
  "nbformat_minor": 0,
  "metadata": {
    "colab": {
      "provenance": [],
      "authorship_tag": "ABX9TyO9iPRO7ZDmMYm09YSPA+gb",
      "include_colab_link": true
    },
    "kernelspec": {
      "name": "python3",
      "display_name": "Python 3"
    },
    "language_info": {
      "name": "python"
    }
  },
  "cells": [
    {
      "cell_type": "markdown",
      "metadata": {
        "id": "view-in-github",
        "colab_type": "text"
      },
      "source": [
        "<a href=\"https://colab.research.google.com/github/PraveenCMR/JavaProject/blob/main/FloatAdd_Program.ipynb\" target=\"_parent\"><img src=\"https://colab.research.google.com/assets/colab-badge.svg\" alt=\"Open In Colab\"/></a>"
      ]
    },
    {
      "cell_type": "code",
      "execution_count": null,
      "metadata": {
        "id": "U3udzkHXvZ64"
      },
      "outputs": [],
      "source": [
        "public class Program1{\n",
        "    public float Addition()\n",
        "    {\n",
        "        float fi = 2.33f;\n",
        "        float fr = 45.33f;\n",
        "        float res = Float.sum(fi ,fr);\n",
        "\n",
        "        System.out.println(\"float numbers addition is :\" +res  );\n",
        "        return  res;\n",
        "    }\n",
        "      public static void main(String[] ar)\n",
        "      {\n",
        "        Program1 dt = new Program1();\n",
        "        dt.Addition();\n",
        "      }\n",
        "}\n"
      ]
    }
  ]
}