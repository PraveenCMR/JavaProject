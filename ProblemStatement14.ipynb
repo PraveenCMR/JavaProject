{
  "nbformat": 4,
  "nbformat_minor": 0,
  "metadata": {
    "colab": {
      "provenance": [],
      "authorship_tag": "ABX9TyM7pbjug7T6EcEdrc/BgvCj",
      "include_colab_link": true
    },
    "kernelspec": {
      "name": "python3",
      "display_name": "Python 3"
    },
    "language_info": {
      "name": "python"
    }
  },
  "cells": [
    {
      "cell_type": "markdown",
      "metadata": {
        "id": "view-in-github",
        "colab_type": "text"
      },
      "source": [
        "<a href=\"https://colab.research.google.com/github/PraveenCMR/JavaProject/blob/main/ProblemStatement14.ipynb\" target=\"_parent\"><img src=\"https://colab.research.google.com/assets/colab-badge.svg\" alt=\"Open In Colab\"/></a>"
      ]
    },
    {
      "cell_type": "code",
      "execution_count": null,
      "metadata": {
        "id": "6DLaOaF5LtEi"
      },
      "outputs": [],
      "source": [
        "\n",
        "import java.time.LocalDate;\n",
        "import java.time.format.DateTimeFormatter;\n",
        "public class ProgramStatement14\n",
        "{\n",
        "        public static void main(String[] args) {\n",
        "            // Print current date\n",
        "            LocalDate currentDate = LocalDate.now();\n",
        "            System.out.println(\"Current Date: \" + currentDate);\n",
        "\n",
        "            // Return current date as a string\n",
        "            String dateString = getCurrentDateAsString();\n",
        "            System.out.println(\"Current Date as String: \" + dateString);\n",
        "        }\n",
        "\n",
        "        // Method to return current date as a string\n",
        "        public static String getCurrentDateAsString() {\n",
        "            LocalDate currentDate = LocalDate.now();\n",
        "            DateTimeFormatter formatter = DateTimeFormatter.ofPattern(\"yyyy-MM-dd\");\n",
        "            String formattedDate = currentDate.format(formatter);\n",
        "            return formattedDate;\n",
        "        }\n",
        "    }\n"
      ]
    }
  ]
}