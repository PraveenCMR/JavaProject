{
  "nbformat": 4,
  "nbformat_minor": 0,
  "metadata": {
    "colab": {
      "provenance": [],
      "authorship_tag": "ABX9TyNcd5IQ28/ZTdIH6/mS/vyc",
      "include_colab_link": true
    },
    "kernelspec": {
      "name": "python3",
      "display_name": "Python 3"
    },
    "language_info": {
      "name": "python"
    }
  },
  "cells": [
    {
      "cell_type": "markdown",
      "metadata": {
        "id": "view-in-github",
        "colab_type": "text"
      },
      "source": [
        "<a href=\"https://colab.research.google.com/github/PraveenCMR/JavaProject/blob/main/ProblemStatement8.ipynb\" target=\"_parent\"><img src=\"https://colab.research.google.com/assets/colab-badge.svg\" alt=\"Open In Colab\"/></a>"
      ]
    },
    {
      "cell_type": "code",
      "execution_count": null,
      "metadata": {
        "id": "36divT8EBNX8"
      },
      "outputs": [],
      "source": [
        "public class ProblemStatement8{\n",
        "\n",
        "        public static void main(String[] args) {\n",
        "            String a = \"Welcome To Java\";\n",
        "\n",
        "            // Count the number of spaces\n",
        "            int spaceCount = 0;\n",
        "            for (int i = 0; i < a.length(); i++) {\n",
        "                if (a.charAt(i) == ' ') {\n",
        "                    spaceCount++;\n",
        "                }\n",
        "            }\n",
        "\n",
        "            // Create an array to store words\n",
        "            String[] words = new String[spaceCount + 1]; // Space count + 1 for the last word\n",
        "\n",
        "            // Split the string into words and store them in the array\n",
        "            int index = 0;\n",
        "            for (String word : a.split(\" \")) {\n",
        "                words[index++] = word;\n",
        "            }\n",
        "\n",
        "            // Print only the first word \"Welcome\"\n",
        "            System.out.println(words[0]);\n",
        "        }\n",
        "    }\n"
      ]
    }
  ]
}