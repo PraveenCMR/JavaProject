{
  "nbformat": 4,
  "nbformat_minor": 0,
  "metadata": {
    "colab": {
      "provenance": [],
      "authorship_tag": "ABX9TyPioXQ6RDc9HX6seRklSpaw",
      "include_colab_link": true
    },
    "kernelspec": {
      "name": "python3",
      "display_name": "Python 3"
    },
    "language_info": {
      "name": "python"
    }
  },
  "cells": [
    {
      "cell_type": "markdown",
      "metadata": {
        "id": "view-in-github",
        "colab_type": "text"
      },
      "source": [
        "<a href=\"https://colab.research.google.com/github/PraveenCMR/JavaProject/blob/main/ProblemStatement18.ipynb\" target=\"_parent\"><img src=\"https://colab.research.google.com/assets/colab-badge.svg\" alt=\"Open In Colab\"/></a>"
      ]
    },
    {
      "cell_type": "code",
      "execution_count": null,
      "metadata": {
        "id": "f9VhkPHlfaUS"
      },
      "outputs": [],
      "source": [
        "public class ProblemStatement18\n",
        "{\n",
        "    public static void NameExtract()\n",
        "        {\n",
        "            String fullName1 = \"Sachin Tendulkar\";\n",
        "            String fullName2 = \"Rahul Dravid\";\n",
        "\n",
        "            // Extracting only the first name from \"Sachin Tendulkar\"\n",
        "            String[] nameParts1 = fullName1.split(\" \");\n",
        "            String firstName1 = nameParts1[0];\n",
        "            System.out.println(\"First Name from 'Sachin Tendulkar': \" + firstName1);\n",
        "\n",
        "            // Extracting only the second name from \"Rahul Dravid\"\n",
        "            String[] nameParts2 = fullName2.split(\" \");\n",
        "            String secondName2 = \"\";\n",
        "            if (nameParts2.length > 1) {\n",
        "                secondName2 = nameParts2[1];\n",
        "            }\n",
        "            System.out.println(\"Second Name from 'Rahul Dravid': \" + secondName2);\n",
        "        }\n",
        "\n",
        "\n",
        "    public static void main(String[] args)\n",
        "    {\n",
        "        ProblemStatement18.NameExtract();\n",
        "    }\n",
        "\n",
        "}\n",
        "\n",
        "\n",
        "\n"
      ]
    }
  ]
}