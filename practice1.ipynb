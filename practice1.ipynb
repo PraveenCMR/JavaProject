{
  "nbformat": 4,
  "nbformat_minor": 0,
  "metadata": {
    "colab": {
      "provenance": [],
      "authorship_tag": "ABX9TyPQUY3PJTh5+ghUBEUemum+",
      "include_colab_link": true
    },
    "kernelspec": {
      "name": "python3",
      "display_name": "Python 3"
    },
    "language_info": {
      "name": "python"
    }
  },
  "cells": [
    {
      "cell_type": "markdown",
      "metadata": {
        "id": "view-in-github",
        "colab_type": "text"
      },
      "source": [
        "<a href=\"https://colab.research.google.com/github/PraveenCMR/JavaProject/blob/main/practice1.ipynb\" target=\"_parent\"><img src=\"https://colab.research.google.com/assets/colab-badge.svg\" alt=\"Open In Colab\"/></a>"
      ]
    },
    {
      "cell_type": "code",
      "execution_count": null,
      "metadata": {
        "id": "d9Z7iEm0D1gf"
      },
      "outputs": [],
      "source": [
        "import java.util.Scanner;\n",
        "\n",
        "public class Program4_Switch {\n",
        "    public static void main(String[] ar)\n",
        "    {\n",
        "        Program4_Switch tes = new Program4_Switch();\n",
        "        tes.switchEx();\n",
        "    }\n",
        "    public void switchEx()\n",
        "    {\n",
        "        Scanner en = new Scanner();\n",
        "\n",
        "        int day = 4;\n",
        "        switch(day)\n",
        "        {\n",
        "            case 1 :\n",
        "                System.out.println(\"Monday\");\n",
        "                break;\n",
        "            case 2:\n",
        "                System.out.println(\"Tuesday\");\n",
        "                break;\n",
        "            case 3:\n",
        "                System.out.println(\"Wednesday\");\n",
        "                break;\n",
        "            case 4:\n",
        "                System.out.println(\"Thursday\");\n",
        "                break;\n",
        "            case 5:\n",
        "                System.out.println(\"Friday\");\n",
        "                break;\n",
        "            case 6:\n",
        "                System.out.println(\"Saturday\");\n",
        "                break;\n",
        "            case 7:\n",
        "                System.out.println(\"Sunday\");\n",
        "                break;\n",
        "        }\n",
        "    }\n",
        "}\n"
      ]
    }
  ]
}