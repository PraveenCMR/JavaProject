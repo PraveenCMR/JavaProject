{
  "nbformat": 4,
  "nbformat_minor": 0,
  "metadata": {
    "colab": {
      "provenance": [],
      "authorship_tag": "ABX9TyN87Q1rNHkKcbPT/PxIKCAw",
      "include_colab_link": true
    },
    "kernelspec": {
      "name": "python3",
      "display_name": "Python 3"
    },
    "language_info": {
      "name": "python"
    }
  },
  "cells": [
    {
      "cell_type": "markdown",
      "metadata": {
        "id": "view-in-github",
        "colab_type": "text"
      },
      "source": [
        "<a href=\"https://colab.research.google.com/github/PraveenCMR/JavaProject/blob/main/ProblemStatement17.ipynb\" target=\"_parent\"><img src=\"https://colab.research.google.com/assets/colab-badge.svg\" alt=\"Open In Colab\"/></a>"
      ]
    },
    {
      "cell_type": "code",
      "execution_count": null,
      "metadata": {
        "id": "jLTyLlbwbriG"
      },
      "outputs": [],
      "source": [
        "public class ProblemStatement17\n",
        "{\n",
        "        public static void Get_Odd_Even()\n",
        "        {\n",
        "            int number = 13; // You can change this number to any integer\n",
        "\n",
        "            // Check if the number is even or odd using if condition\n",
        "            if (number % 2 == 0) {\n",
        "                System.out.println(number + \" is even.\");\n",
        "            } else {\n",
        "                System.out.println(number + \" is odd.\");\n",
        "            }\n",
        "        }\n",
        "        public static void main(String[] args)\n",
        "        {\n",
        "            ProblemStatement17.Get_Odd_Even();\n",
        "\n",
        "        }\n",
        "    }\n",
        "\n",
        "\n"
      ]
    }
  ]
}