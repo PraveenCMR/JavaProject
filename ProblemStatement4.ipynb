{
  "nbformat": 4,
  "nbformat_minor": 0,
  "metadata": {
    "colab": {
      "provenance": [],
      "authorship_tag": "ABX9TyPcTe4yUFlaMC9O6gHcthGV",
      "include_colab_link": true
    },
    "kernelspec": {
      "name": "python3",
      "display_name": "Python 3"
    },
    "language_info": {
      "name": "python"
    }
  },
  "cells": [
    {
      "cell_type": "markdown",
      "metadata": {
        "id": "view-in-github",
        "colab_type": "text"
      },
      "source": [
        "<a href=\"https://colab.research.google.com/github/PraveenCMR/JavaProject/blob/main/ProblemStatement4.ipynb\" target=\"_parent\"><img src=\"https://colab.research.google.com/assets/colab-badge.svg\" alt=\"Open In Colab\"/></a>"
      ]
    },
    {
      "cell_type": "code",
      "execution_count": null,
      "metadata": {
        "id": "h3ycUMNfxgya"
      },
      "outputs": [],
      "source": [
        "import java.util.Scanner;\n",
        "public class ProblemStatement4 {\n",
        "\n",
        "    public int performOperation(int num1, int num2, String operation)\n",
        "    {\n",
        "        int result = 0;\n",
        "\n",
        "        switch(operation.toLowerCase()) {\n",
        "            case \"add\":\n",
        "                result = num1 + num2;\n",
        "                break;\n",
        "            case \"minus\":\n",
        "                result = num1 - num2;\n",
        "                break;\n",
        "            case \"multiplication\":\n",
        "                result = num1 * num2;\n",
        "                break;\n",
        "            case \"division\":\n",
        "                if(num2 != 0) {\n",
        "                    result = num1 / num2;\n",
        "                } else {\n",
        "                    System.out.println(\"Cannot divide by zero.\");\n",
        "                }\n",
        "                break;\n",
        "            default:\n",
        "                System.out.println(\"Invalid operation.\");\n",
        "        }\n",
        "\n",
        "        return result;\n",
        "    }\n",
        "\n",
        "    public static void main(String[] args) {\n",
        "        Scanner scanner = new Scanner(System.in);\n",
        "        ProblemStatement4 arithmeticops = new ProblemStatement4();\n",
        "\n",
        "        System.out.println(\"Enter the first number:\");\n",
        "        int num1 = scanner.nextInt();\n",
        "\n",
        "        System.out.println(\"Enter the second number:\");\n",
        "        int num2 = scanner.nextInt();\n",
        "\n",
        "        System.out.println(\"Enter the operation (add/minus/multiplication/division):\");\n",
        "        String operation = scanner.next();\n",
        "\n",
        "        int result = arithmeticops.performOperation(num1, num2, operation);\n",
        "        System.out.println(\"Result: \" + result);\n",
        "\n",
        "        scanner.close();\n",
        "    }\n",
        "}\n"
      ]
    }
  ]
}