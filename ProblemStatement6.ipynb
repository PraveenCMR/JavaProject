{
  "nbformat": 4,
  "nbformat_minor": 0,
  "metadata": {
    "colab": {
      "provenance": [],
      "authorship_tag": "ABX9TyNS+XG+Qf5BSnrWaXYZ1cz5",
      "include_colab_link": true
    },
    "kernelspec": {
      "name": "python3",
      "display_name": "Python 3"
    },
    "language_info": {
      "name": "python"
    }
  },
  "cells": [
    {
      "cell_type": "markdown",
      "metadata": {
        "id": "view-in-github",
        "colab_type": "text"
      },
      "source": [
        "<a href=\"https://colab.research.google.com/github/PraveenCMR/JavaProject/blob/main/ProblemStatement6.ipynb\" target=\"_parent\"><img src=\"https://colab.research.google.com/assets/colab-badge.svg\" alt=\"Open In Colab\"/></a>"
      ]
    },
    {
      "cell_type": "code",
      "execution_count": null,
      "metadata": {
        "id": "bQklWKXY8EAw"
      },
      "outputs": [],
      "source": [
        "import java.util.ArrayList;\n",
        "import java.util.HashSet;\n",
        "import java.util.TreeSet;\n",
        "\n",
        "public class ProblemStatement6\n",
        "{\n",
        "    public void arrayList()\n",
        "    {\n",
        "        // Create an ArrayList of integers\n",
        "        ArrayList<Integer> arrayList = new ArrayList<>();\n",
        "\n",
        "        // Add numbers from 200 to 500 into the ArrayList\n",
        "        for (int i = 200; i <= 500; i++) {\n",
        "            arrayList.add(i);\n",
        "        }\n",
        "\n",
        "        // Print the ArrayList\n",
        "        System.out.println(\"ArrayList: \" + arrayList);\n",
        "    }\n",
        "    public void hashSet(){\n",
        "        HashSet<Integer> hashSet = new HashSet<>();\n",
        "        for (int i = 200; i <= 500; i++) {\n",
        "            hashSet.add(i);\n",
        "        }\n",
        "        System.out.println(\"HashSet: \" + hashSet);\n",
        "    }\n",
        "    public void treeSet(){\n",
        "        TreeSet<Integer> treeSet = new TreeSet<>();\n",
        "        for (int i = 200; i <= 500; i++) {\n",
        "            treeSet.add(i);\n",
        "        }\n",
        "        System.out.println(\"TreeSet: \" + treeSet);\n",
        "    }\n",
        "\n",
        "    public static void main(String[] args)\n",
        "    {\n",
        "            ProblemStatement6 ps = new ProblemStatement6();\n",
        "            ps.arrayList();\n",
        "            ps.hashSet();\n",
        "            ps.treeSet();\n",
        "\n",
        "    }\n",
        "}\n",
        "\n",
        "\n",
        "\n",
        "\n",
        "\n"
      ]
    }
  ]
}