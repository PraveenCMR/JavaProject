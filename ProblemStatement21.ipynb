{
  "nbformat": 4,
  "nbformat_minor": 0,
  "metadata": {
    "colab": {
      "provenance": [],
      "authorship_tag": "ABX9TyOdW2c8ShDCQKlFZf0UgdBm",
      "include_colab_link": true
    },
    "kernelspec": {
      "name": "python3",
      "display_name": "Python 3"
    },
    "language_info": {
      "name": "python"
    }
  },
  "cells": [
    {
      "cell_type": "markdown",
      "metadata": {
        "id": "view-in-github",
        "colab_type": "text"
      },
      "source": [
        "<a href=\"https://colab.research.google.com/github/PraveenCMR/JavaProject/blob/main/ProblemStatement21.ipynb\" target=\"_parent\"><img src=\"https://colab.research.google.com/assets/colab-badge.svg\" alt=\"Open In Colab\"/></a>"
      ]
    },
    {
      "cell_type": "code",
      "execution_count": null,
      "metadata": {
        "id": "lRZ8doOviT85"
      },
      "outputs": [],
      "source": [
        "public class ProblemStatement21\n",
        "{\n",
        "   public static void ReplaceNames()\n",
        "   {\n",
        "       String originalName1 = \"Liverpool\";\n",
        "       String originalName2 = \"City\";\n",
        "\n",
        "       // Replace \"Liverpool\" with \"Liverpool Football Club\"\n",
        "       String modifiedName1 = originalName1.replace(\"Liverpool\", \"Liverpool Football Club\");\n",
        "       System.out.println(\"Modified name for 'Liverpool': \" + modifiedName1);\n",
        "\n",
        "       // Replace \"City\" with \"Manchester City\"\n",
        "       String modifiedName2 = originalName2.replace(\"City\", \"Manchester City\");\n",
        "       System.out.println(\"Modified name for 'City': \" + modifiedName2);\n",
        "   }\n",
        "        public static void main(String[] args)\n",
        "        {\n",
        "            ProblemStatement21.ReplaceNames();\n",
        "        }\n",
        "    }\n",
        "\n",
        "\n"
      ]
    }
  ]
}