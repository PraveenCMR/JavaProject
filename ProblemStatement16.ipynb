{
  "nbformat": 4,
  "nbformat_minor": 0,
  "metadata": {
    "colab": {
      "provenance": [],
      "authorship_tag": "ABX9TyO7BrbpECy5OgoeroX4RUeH",
      "include_colab_link": true
    },
    "kernelspec": {
      "name": "python3",
      "display_name": "Python 3"
    },
    "language_info": {
      "name": "python"
    }
  },
  "cells": [
    {
      "cell_type": "markdown",
      "metadata": {
        "id": "view-in-github",
        "colab_type": "text"
      },
      "source": [
        "<a href=\"https://colab.research.google.com/github/PraveenCMR/JavaProject/blob/main/ProblemStatement16.ipynb\" target=\"_parent\"><img src=\"https://colab.research.google.com/assets/colab-badge.svg\" alt=\"Open In Colab\"/></a>"
      ]
    },
    {
      "cell_type": "code",
      "execution_count": null,
      "metadata": {
        "id": "vB7dv1qgapux"
      },
      "outputs": [],
      "source": [
        "import java.time.LocalDate;\n",
        "public class ProblemStatement16\n",
        "{\n",
        "    public static void GetCurrentMonth()\n",
        "    {\n",
        "        // Get the current month as an integer (1-12)\n",
        "        int currentMonth = LocalDate.now().getMonthValue();\n",
        "\n",
        "        // Print the current month\n",
        "        System.out.println(\"Current Month: \" + currentMonth);\n",
        "\n",
        "        // Switch statement to select the current month\n",
        "        switch (currentMonth) {\n",
        "            case 1:\n",
        "                System.out.println(\"January\");\n",
        "                break;\n",
        "            case 2:\n",
        "                System.out.println(\"February\");\n",
        "                break;\n",
        "            case 3:\n",
        "                System.out.println(\"March\");\n",
        "                break;\n",
        "            case 4:\n",
        "                System.out.println(\"April\");\n",
        "                break;\n",
        "            case 5:\n",
        "                System.out.println(\"May\");\n",
        "                break;\n",
        "            case 6:\n",
        "                System.out.println(\"June\");\n",
        "                break;\n",
        "            case 7:\n",
        "                System.out.println(\"July\");\n",
        "                break;\n",
        "            case 8:\n",
        "                System.out.println(\"August\");\n",
        "                break;\n",
        "            case 9:\n",
        "                System.out.println(\"September\");\n",
        "                break;\n",
        "            case 10:\n",
        "                System.out.println(\"October\");\n",
        "                break;\n",
        "            case 11:\n",
        "                System.out.println(\"November\");\n",
        "                break;\n",
        "            case 12:\n",
        "                System.out.println(\"December\");\n",
        "                break;\n",
        "            default:\n",
        "                System.out.println(\"Invalid month!\");\n",
        "                break;\n",
        "        }\n",
        "    }\n",
        "        public static void main(String[] args)\n",
        "        {\n",
        "            ProblemStatement16.GetCurrentMonth();\n",
        "        }\n",
        "    }\n"
      ]
    }
  ]
}