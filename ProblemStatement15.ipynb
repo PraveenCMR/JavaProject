{
  "nbformat": 4,
  "nbformat_minor": 0,
  "metadata": {
    "colab": {
      "provenance": [],
      "authorship_tag": "ABX9TyMfyFsculnYRjHQ02vVNQ3o",
      "include_colab_link": true
    },
    "kernelspec": {
      "name": "python3",
      "display_name": "Python 3"
    },
    "language_info": {
      "name": "python"
    }
  },
  "cells": [
    {
      "cell_type": "markdown",
      "metadata": {
        "id": "view-in-github",
        "colab_type": "text"
      },
      "source": [
        "<a href=\"https://colab.research.google.com/github/PraveenCMR/JavaProject/blob/main/ProblemStatement15.ipynb\" target=\"_parent\"><img src=\"https://colab.research.google.com/assets/colab-badge.svg\" alt=\"Open In Colab\"/></a>"
      ]
    },
    {
      "cell_type": "code",
      "execution_count": null,
      "metadata": {
        "id": "Q8sp6WpKYdNr"
      },
      "outputs": [],
      "source": [
        "import java.util.Random;\n",
        "public class ProblemStatement15\n",
        "{\n",
        "    // Method to generate a random alphanumeric string of given length\n",
        "    public static String generateRandomAlphaNumeric(int length)\n",
        "    {\n",
        "        String characters = \"ABCDEFGHIabcdefghi0123456789\";\n",
        "        StringBuilder sb = new StringBuilder();\n",
        "        // Create a random object\n",
        "        Random random = new Random();\n",
        "        // Generate random characters and append them to the string builder\n",
        "        for (int i = 0; i < length; i++)\n",
        "        {\n",
        "            int index = random.nextInt(characters.length());\n",
        "            char randomChar = characters.charAt(index);\n",
        "            sb.append(randomChar);\n",
        "        }\n",
        "        return sb.toString();\n",
        "    }\n",
        "        public static void main(String[] args)\n",
        "        {\n",
        "            // Generate a random alphanumeric string\n",
        "            String randomString = generateRandomAlphaNumeric(10);\n",
        "            System.out.println(\"Random Alphanumeric String: \" + randomString);\n",
        "        }\n",
        "}\n"
      ]
    }
  ]
}