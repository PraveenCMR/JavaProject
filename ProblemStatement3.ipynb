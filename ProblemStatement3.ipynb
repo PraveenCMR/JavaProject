{
  "nbformat": 4,
  "nbformat_minor": 0,
  "metadata": {
    "colab": {
      "provenance": [],
      "authorship_tag": "ABX9TyM3imFD4WqDlivdb+O2rb4W",
      "include_colab_link": true
    },
    "kernelspec": {
      "name": "python3",
      "display_name": "Python 3"
    },
    "language_info": {
      "name": "python"
    }
  },
  "cells": [
    {
      "cell_type": "markdown",
      "metadata": {
        "id": "view-in-github",
        "colab_type": "text"
      },
      "source": [
        "<a href=\"https://colab.research.google.com/github/PraveenCMR/JavaProject/blob/main/ProblemStatement3.ipynb\" target=\"_parent\"><img src=\"https://colab.research.google.com/assets/colab-badge.svg\" alt=\"Open In Colab\"/></a>"
      ]
    },
    {
      "cell_type": "code",
      "execution_count": null,
      "metadata": {
        "id": "ru9Xy2183u3Y"
      },
      "outputs": [],
      "source": [
        "\n",
        "\n",
        "class AgeException extends Exception\n",
        "{\n",
        "    public AgeException(String message)\n",
        "    {\n",
        "        super(message);\n",
        "    }\n",
        "}\n",
        "\n",
        "class Person {\n",
        "    private int age;\n",
        "\n",
        "    public void setAge(int age) throws AgeException\n",
        "    {\n",
        "        if (age < 25 || age > 55)\n",
        "        {\n",
        "            throw new AgeException(\"Age must be between 25 and 55\");\n",
        "        }\n",
        "        this.age = age;\n",
        "    }\n",
        "\n",
        "    public int getAge()\n",
        "    {\n",
        "        return age;\n",
        "    }\n",
        "}\n",
        "\n",
        "public class ProblemStatement3 {\n",
        "    public static void main(String[] args)\n",
        "    {\n",
        "        Person person = new Person();\n",
        "        try {\n",
        "            person.setAge(20); // Trying to set age below 25\n",
        "            System.out.println(\"Age set successfully: \" + person.getAge());\n",
        "        } catch (AgeException e)\n",
        "        {\n",
        "            System.out.println(\"Exception occurred: \" + e.getMessage());\n",
        "        }\n",
        "\n",
        "        try {\n",
        "            person.setAge(60); // Trying to set age above 55\n",
        "            System.out.println(\"Age set successfully: \" + person.getAge());\n",
        "        } catch (AgeException e)\n",
        "        {\n",
        "            System.out.println(\"Exception occurred: \" + e.getMessage());\n",
        "        }\n",
        "\n",
        "        try\n",
        "        {\n",
        "            person.setAge(35); // Setting age within valid range\n",
        "            System.out.println(\"Age set successfully: \" + person.getAge());\n",
        "        } catch (AgeException e)\n",
        "        {\n",
        "            System.out.println(\"Exception occurred: \" + e.getMessage());\n",
        "        }\n",
        "    }\n",
        "}\n"
      ]
    }
  ]
}