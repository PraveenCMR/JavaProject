{
  "nbformat": 4,
  "nbformat_minor": 0,
  "metadata": {
    "colab": {
      "provenance": [],
      "authorship_tag": "ABX9TyNCmzw96fhB3MCvd/Rj3D09",
      "include_colab_link": true
    },
    "kernelspec": {
      "name": "python3",
      "display_name": "Python 3"
    },
    "language_info": {
      "name": "python"
    }
  },
  "cells": [
    {
      "cell_type": "markdown",
      "metadata": {
        "id": "view-in-github",
        "colab_type": "text"
      },
      "source": [
        "<a href=\"https://colab.research.google.com/github/PraveenCMR/JavaProject/blob/main/ProblemStatement25.ipynb\" target=\"_parent\"><img src=\"https://colab.research.google.com/assets/colab-badge.svg\" alt=\"Open In Colab\"/></a>"
      ]
    },
    {
      "cell_type": "code",
      "execution_count": null,
      "metadata": {
        "id": "8o1OIIJMmcLZ"
      },
      "outputs": [],
      "source": [
        "public class ProblemStatement25\n",
        "{\n",
        "        // First overloaded constructor with no parameters\n",
        "        public ProblemStatement25() {\n",
        "            System.out.println(\"Constructor with no parameters called.\");\n",
        "        }\n",
        "\n",
        "        // Second overloaded constructor with one parameter\n",
        "        public ProblemStatement25(int number) {\n",
        "            System.out.println(\"Constructor with one parameter called. Number: \" + number);\n",
        "        }\n",
        "\n",
        "        // Third overloaded constructor with two parameters\n",
        "        public ProblemStatement25(String name, int age) {\n",
        "            System.out.println(\"Constructor with two parameters called. Name: \" + name + \", Age: \" + age);\n",
        "        }\n",
        "\n",
        "        public static void main(String[] args)\n",
        "        {\n",
        "            // Creating objects using different constructors\n",
        "            ProblemStatement25 obj1 = new ProblemStatement25();\n",
        "            ProblemStatement25 obj2 = new ProblemStatement25(10);\n",
        "            ProblemStatement25 obj3 = new ProblemStatement25(\"John\", 25);\n",
        "        }\n",
        "    }\n",
        "\n",
        "\n"
      ]
    }
  ]
}