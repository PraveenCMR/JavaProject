{
  "nbformat": 4,
  "nbformat_minor": 0,
  "metadata": {
    "colab": {
      "provenance": [],
      "authorship_tag": "ABX9TyN96spnLtJ65m2zMHFecKm8",
      "include_colab_link": true
    },
    "kernelspec": {
      "name": "python3",
      "display_name": "Python 3"
    },
    "language_info": {
      "name": "python"
    }
  },
  "cells": [
    {
      "cell_type": "markdown",
      "metadata": {
        "id": "view-in-github",
        "colab_type": "text"
      },
      "source": [
        "<a href=\"https://colab.research.google.com/github/PraveenCMR/JavaProject/blob/main/ProblemStatement19.ipynb\" target=\"_parent\"><img src=\"https://colab.research.google.com/assets/colab-badge.svg\" alt=\"Open In Colab\"/></a>"
      ]
    },
    {
      "cell_type": "code",
      "execution_count": null,
      "metadata": {
        "id": "VnpDASKEgkLy"
      },
      "outputs": [],
      "source": [
        "public class ProblemStatement19\n",
        "{\n",
        "   public void NameCorrection()\n",
        "   {\n",
        "       String playerName1 = \"Davi Beckham\";\n",
        "       // Correct the spelling mistake from \"Davi Beckham\" to \"David Beckham\"\n",
        "       String correctedName1 = playerName1.replace(\"Davi\", \"David\");\n",
        "       System.out.println(\"Corrected name for 'Davi Beckham': \" + correctedName1);\n",
        "   }\n",
        "   public void GoalCorrection()\n",
        "   {\n",
        "       String playerName2 = \"Lionel Messi (400 goals)\";\n",
        "       // Correct the number of goals scored by Lionel Messi from 400 to 579\n",
        "       String correctedPlayer2 = playerName2.replace(\"(400 goals)\", \"(579 goals)\");\n",
        "       System.out.println(\"Corrected number of goals for 'Lionel Messi': \" + correctedPlayer2);\n",
        "   }\n",
        "        public static void main(String[] args)\n",
        "        {\n",
        "            ProblemStatement19 correction = new ProblemStatement19();\n",
        "            correction.NameCorrection();\n",
        "            correction.GoalCorrection();\n",
        "\n",
        "        }\n",
        "    }\n",
        "\n",
        "\n"
      ]
    }
  ]
}