{
  "nbformat": 4,
  "nbformat_minor": 0,
  "metadata": {
    "colab": {
      "provenance": [],
      "authorship_tag": "ABX9TyO3JAuokyZ/TjzkDXeYeDS9",
      "include_colab_link": true
    },
    "kernelspec": {
      "name": "python3",
      "display_name": "Python 3"
    },
    "language_info": {
      "name": "python"
    }
  },
  "cells": [
    {
      "cell_type": "markdown",
      "metadata": {
        "id": "view-in-github",
        "colab_type": "text"
      },
      "source": [
        "<a href=\"https://colab.research.google.com/github/PraveenCMR/JavaProject/blob/main/ProblemStatement11.ipynb\" target=\"_parent\"><img src=\"https://colab.research.google.com/assets/colab-badge.svg\" alt=\"Open In Colab\"/></a>"
      ]
    },
    {
      "cell_type": "code",
      "execution_count": null,
      "metadata": {
        "id": "MfSLpMjuEkTu"
      },
      "outputs": [],
      "source": [
        "import java.util.HashMap;\n",
        "\n",
        "public class ProblemStatement11 {\n",
        "    public static void HashmapSet()\n",
        "        {\n",
        "            int empNoToFind = 123;\n",
        "            String empName = \"\";\n",
        "            // Create a HashMap to store EmpNo as keys and EmpName as values\n",
        "            HashMap<Integer, String> employeeMap = new HashMap<>();\n",
        "            // Populate the HashMap with EmpNo and EmpName\n",
        "            for(int i =1;i<=100;i++)\n",
        "            {\n",
        "                int empNo = i;\n",
        "                empName = \"EmpName\" + i;\n",
        "                employeeMap.put(empNo,empName);\n",
        "            }\n",
        "            employeeMap.get(empNoToFind);\n",
        "            if (empName != null) {\n",
        "                System.out.println(\"EmpName for EmpNo \" + empNoToFind + \": \" + empName);\n",
        "            } else {\n",
        "                System.out.println(\"EmpNo \" + empNoToFind + \" not found.\");\n",
        "            }\n",
        "\n",
        "        }\n",
        "        public static void main(String[] ar)\n",
        "        {\n",
        "            // Accessing and printing EmpName for EmpNo=123\n",
        "\n",
        "            ProblemStatement11.HashmapSet();\n",
        "\n",
        "        }\n",
        "    }\n"
      ]
    }
  ]
}