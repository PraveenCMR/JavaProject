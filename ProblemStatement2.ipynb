{
  "nbformat": 4,
  "nbformat_minor": 0,
  "metadata": {
    "colab": {
      "provenance": [],
      "authorship_tag": "ABX9TyP3yx54JYFLqNDIUhNHP0YR",
      "include_colab_link": true
    },
    "kernelspec": {
      "name": "python3",
      "display_name": "Python 3"
    },
    "language_info": {
      "name": "python"
    }
  },
  "cells": [
    {
      "cell_type": "markdown",
      "metadata": {
        "id": "view-in-github",
        "colab_type": "text"
      },
      "source": [
        "<a href=\"https://colab.research.google.com/github/PraveenCMR/JavaProject/blob/main/ProblemStatement2.ipynb\" target=\"_parent\"><img src=\"https://colab.research.google.com/assets/colab-badge.svg\" alt=\"Open In Colab\"/></a>"
      ]
    },
    {
      "cell_type": "code",
      "execution_count": null,
      "metadata": {
        "id": "ONZS8Tgr0NID"
      },
      "outputs": [],
      "source": [
        "public class ClassB\n",
        "{\n",
        "    static int variableB;\n",
        "\n",
        "    public static void setVarB(int value){\n",
        "        variableB = value;\n",
        "    }\n",
        "    public static int getVarB(){\n",
        "        return VariableB;\n",
        "    }\n",
        "}\n",
        "public class Class_A\n",
        "{\n",
        "    public static void resetVariableB(int value) {\n",
        "        Class_B.setVariableB(value);\n",
        "    }\n",
        "\n",
        "    public static int getVariableBFromClassB() {\n",
        "        return Class_B.getVariableB();\n",
        "    }\n",
        "\n",
        "    public static void printVariableBFromClassB() {\n",
        "        System.out.println(\"Value of variableB in Class_B: \" + Class_B.getVariableB());\n",
        "    }\n",
        "}\n",
        "public class ProblemStatement2 {\n",
        "    public static void main(String[] ar) {\n",
        "        Class_A.resetVariableB(10); // Reset the value of variableB in Class_B\n",
        "\n",
        "        // Calling/printing integer variable from Class_B within Class_A\n",
        "        int variableBFromClassB = Class_A.getVariableBFromClassB();\n",
        "        System.out.println(\"Variable from Class_B within Class_A: \" + variableBFromClassB);\n",
        "\n",
        "        // Printing initial value of variableB from Class_B\n",
        "        Class_A.printVariableBFromClassB(); // Output should be 10\n",
        "    }\n",
        "\n",
        "}"
      ]
    }
  ]
}