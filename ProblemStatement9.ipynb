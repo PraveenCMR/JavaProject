{
  "nbformat": 4,
  "nbformat_minor": 0,
  "metadata": {
    "colab": {
      "provenance": [],
      "authorship_tag": "ABX9TyNzyAV3LenpTn8jUrZKbofx",
      "include_colab_link": true
    },
    "kernelspec": {
      "name": "python3",
      "display_name": "Python 3"
    },
    "language_info": {
      "name": "python"
    }
  },
  "cells": [
    {
      "cell_type": "markdown",
      "metadata": {
        "id": "view-in-github",
        "colab_type": "text"
      },
      "source": [
        "<a href=\"https://colab.research.google.com/github/PraveenCMR/JavaProject/blob/main/ProblemStatement9.ipynb\" target=\"_parent\"><img src=\"https://colab.research.google.com/assets/colab-badge.svg\" alt=\"Open In Colab\"/></a>"
      ]
    },
    {
      "cell_type": "code",
      "execution_count": null,
      "metadata": {
        "id": "inUhWfklLoyb"
      },
      "outputs": [],
      "source": [
        "public class ProblemStatement9 {\n",
        "\n",
        "        public static void main(String[] args) {\n",
        "            String str = \"ABCDE12345\";\n",
        "\n",
        "            // Print only \"12345\"\n",
        "            String result = extractNumbers(str);\n",
        "            System.out.println(result);\n",
        "        }\n",
        "\n",
        "        public static String extractNumbers(String str) {\n",
        "            // Find the index of the first digit\n",
        "            int startIndex = 0;\n",
        "            for (int i = 0; i < str.length(); i++) {\n",
        "                if (Character.isDigit(str.charAt(i))) {\n",
        "                    startIndex = i;\n",
        "                    break;\n",
        "                }\n",
        "            }\n",
        "\n",
        "            // Extract the substring containing only digits\n",
        "            return str.substring(startIndex);\n",
        "        }\n",
        "    }\n",
        "\n",
        "\n"
      ]
    }
  ]
}