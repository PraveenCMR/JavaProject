{
  "nbformat": 4,
  "nbformat_minor": 0,
  "metadata": {
    "colab": {
      "provenance": [],
      "authorship_tag": "ABX9TyM8Eq3mQnnvMxebK3QBbYuY",
      "include_colab_link": true
    },
    "kernelspec": {
      "name": "python3",
      "display_name": "Python 3"
    },
    "language_info": {
      "name": "python"
    }
  },
  "cells": [
    {
      "cell_type": "markdown",
      "metadata": {
        "id": "view-in-github",
        "colab_type": "text"
      },
      "source": [
        "<a href=\"https://colab.research.google.com/github/PraveenCMR/JavaProject/blob/main/ProblemStatement20.ipynb\" target=\"_parent\"><img src=\"https://colab.research.google.com/assets/colab-badge.svg\" alt=\"Open In Colab\"/></a>"
      ]
    },
    {
      "cell_type": "code",
      "execution_count": null,
      "metadata": {
        "id": "1tyrC3MXhaVB"
      },
      "outputs": [],
      "source": [
        "public class ProblemStatement20\n",
        "{\n",
        "        public static void VerifyMatchName()\n",
        "        {\n",
        "            String playerName1 = \"Cristiano Ronaldo\";\n",
        "            String playerName2 = \"Ronaldo Nazario\";\n",
        "\n",
        "            // Check if the names are equal\n",
        "            boolean areEqual = playerName1.equals(playerName2);\n",
        "\n",
        "            if (areEqual) {\n",
        "                System.out.println(\"The names are equal.\");\n",
        "            } else {\n",
        "                System.out.println(\"The names are not equal.\");\n",
        "            }\n",
        "        }\n",
        "        public static void main(String[] args)\n",
        "        {\n",
        "            ProblemStatement20.VerifyMatchName();\n",
        "        }\n",
        "    }\n",
        "\n",
        "\n"
      ]
    }
  ]
}