{
  "nbformat": 4,
  "nbformat_minor": 0,
  "metadata": {
    "colab": {
      "provenance": [],
      "authorship_tag": "ABX9TyMQtYcnNWPR24g2nVHoNj3f",
      "include_colab_link": true
    },
    "kernelspec": {
      "name": "python3",
      "display_name": "Python 3"
    },
    "language_info": {
      "name": "python"
    }
  },
  "cells": [
    {
      "cell_type": "markdown",
      "metadata": {
        "id": "view-in-github",
        "colab_type": "text"
      },
      "source": [
        "<a href=\"https://colab.research.google.com/github/PraveenCMR/JavaProject/blob/main/ProblemStatement12.ipynb\" target=\"_parent\"><img src=\"https://colab.research.google.com/assets/colab-badge.svg\" alt=\"Open In Colab\"/></a>"
      ]
    },
    {
      "cell_type": "code",
      "execution_count": null,
      "metadata": {
        "id": "sYr4vN0gGW_B"
      },
      "outputs": [],
      "source": [
        "public class ProblemStatement12\n",
        "{\n",
        "    public static void Print100_For()\n",
        "    {\n",
        "        int i = 1;\n",
        "        while (i <= 100) {\n",
        "            System.out.println(i);\n",
        "            i++;\n",
        "        }\n",
        "    }\n",
        "        public static void main(String[] args)\n",
        "        {\n",
        "            ProblemStatement12.Print100_For();\n",
        "        }\n",
        "    }\n",
        "\n",
        "\n"
      ]
    }
  ]
}