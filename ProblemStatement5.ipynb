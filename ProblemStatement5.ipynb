{
  "nbformat": 4,
  "nbformat_minor": 0,
  "metadata": {
    "colab": {
      "provenance": [],
      "authorship_tag": "ABX9TyMVPkgGrpzx5WemaO91VvhF",
      "include_colab_link": true
    },
    "kernelspec": {
      "name": "python3",
      "display_name": "Python 3"
    },
    "language_info": {
      "name": "python"
    }
  },
  "cells": [
    {
      "cell_type": "markdown",
      "metadata": {
        "id": "view-in-github",
        "colab_type": "text"
      },
      "source": [
        "<a href=\"https://colab.research.google.com/github/PraveenCMR/JavaProject/blob/main/ProblemStatement5.ipynb\" target=\"_parent\"><img src=\"https://colab.research.google.com/assets/colab-badge.svg\" alt=\"Open In Colab\"/></a>"
      ]
    },
    {
      "cell_type": "code",
      "execution_count": null,
      "metadata": {
        "id": "tGPBVaa41-bB"
      },
      "outputs": [],
      "source": [
        "public class ProblemStatement5\n",
        "{\n",
        "    public static void main(String[] args)\n",
        "    {\n",
        "        ProblemStatement5.findNumber808();\n",
        "\n",
        "    }\n",
        "    public static void findNumber808()\n",
        "    {\n",
        "        for (int i = 500; i <= 1000; i++)\n",
        "        {\n",
        "            if (i == 808) {\n",
        "                System.out.println(\"Number found: \" + i);\n",
        "                break; // Once 808 is found, we break out of the loop\n",
        "            }\n",
        "        }\n",
        "    }\n",
        "}"
      ]
    }
  ]
}