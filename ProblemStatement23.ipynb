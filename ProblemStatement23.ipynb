{
  "nbformat": 4,
  "nbformat_minor": 0,
  "metadata": {
    "colab": {
      "provenance": [],
      "authorship_tag": "ABX9TyND8QLyWS1Da5lggzhHYEgl",
      "include_colab_link": true
    },
    "kernelspec": {
      "name": "python3",
      "display_name": "Python 3"
    },
    "language_info": {
      "name": "python"
    }
  },
  "cells": [
    {
      "cell_type": "markdown",
      "metadata": {
        "id": "view-in-github",
        "colab_type": "text"
      },
      "source": [
        "<a href=\"https://colab.research.google.com/github/PraveenCMR/JavaProject/blob/main/ProblemStatement23.ipynb\" target=\"_parent\"><img src=\"https://colab.research.google.com/assets/colab-badge.svg\" alt=\"Open In Colab\"/></a>"
      ]
    },
    {
      "cell_type": "code",
      "execution_count": null,
      "metadata": {
        "id": "2Qw9CzFKkwI9"
      },
      "outputs": [],
      "source": [
        "import java.util.Scanner;\n",
        "public class ProblemStatement23\n",
        "{\n",
        "    public void ExceptionMethods()\n",
        "    {\n",
        "        Scanner scanner = new Scanner(System.in);\n",
        "\n",
        "        try\n",
        "        {\n",
        "            System.out.print(\"Enter a number: \");\n",
        "            int number = scanner.nextInt();\n",
        "            System.out.println(\"You entered: \" + number);\n",
        "        } catch (Exception e)\n",
        "        {\n",
        "            System.out.println(\"An error occurred: \" + e.getMessage());\n",
        "        } finally {\n",
        "            // This block will always execute, regardless of whether an exception occurred or not\n",
        "            System.out.println(\"Finally block executed.\");\n",
        "            scanner.close();\n",
        "        }\n",
        "    }\n",
        "\n",
        "        public static void main(String[] args)\n",
        "        {\n",
        "            ProblemStatement23 ex = new ProblemStatement23();\n",
        "            ex.ExceptionMethods();\n",
        "        }\n",
        "}\n"
      ]
    }
  ]
}