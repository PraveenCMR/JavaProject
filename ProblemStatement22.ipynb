{
  "nbformat": 4,
  "nbformat_minor": 0,
  "metadata": {
    "colab": {
      "provenance": [],
      "authorship_tag": "ABX9TyNRdaOHQxBOxrfXzoSJClsk",
      "include_colab_link": true
    },
    "kernelspec": {
      "name": "python3",
      "display_name": "Python 3"
    },
    "language_info": {
      "name": "python"
    }
  },
  "cells": [
    {
      "cell_type": "markdown",
      "metadata": {
        "id": "view-in-github",
        "colab_type": "text"
      },
      "source": [
        "<a href=\"https://colab.research.google.com/github/PraveenCMR/JavaProject/blob/main/ProblemStatement22.ipynb\" target=\"_parent\"><img src=\"https://colab.research.google.com/assets/colab-badge.svg\" alt=\"Open In Colab\"/></a>"
      ]
    },
    {
      "cell_type": "code",
      "execution_count": null,
      "metadata": {
        "id": "pZWIe7LFjilA"
      },
      "outputs": [],
      "source": [
        "//Write a program to print “Narendra Modi” to - (Use appropriate String methods)\n",
        "//\n",
        "//UpperCase & the LowerCase\n",
        "public class ProblemStatement22 {\n",
        "    public void Lowercase()\n",
        "    {\n",
        "        String name = \"Narendra Modi\";\n",
        "        System.out.println(\"Lower Case is :\" +name.toLowerCase());\n",
        "    }\n",
        "    public void Uppercase()\n",
        "    {\n",
        "        String name = \"Narendra Modi\";\n",
        "        System.out.println(\"Upper Case is :\" +name.toUpperCase());\n",
        "    }\n",
        "    public static void main(String[] params)\n",
        "    {\n",
        "        ProblemStatement22 names = new ProblemStatement22();\n",
        "        names.Lowercase();\n",
        "        names.Uppercase();\n",
        "    }\n",
        "}\n"
      ]
    }
  ]
}