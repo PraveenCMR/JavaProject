{
  "nbformat": 4,
  "nbformat_minor": 0,
  "metadata": {
    "colab": {
      "provenance": [],
      "authorship_tag": "ABX9TyNC+xByoCf9fUe6/SOW3FbV",
      "include_colab_link": true
    },
    "kernelspec": {
      "name": "python3",
      "display_name": "Python 3"
    },
    "language_info": {
      "name": "python"
    }
  },
  "cells": [
    {
      "cell_type": "markdown",
      "metadata": {
        "id": "view-in-github",
        "colab_type": "text"
      },
      "source": [
        "<a href=\"https://colab.research.google.com/github/PraveenCMR/JavaProject/blob/main/ProblemStatement7.ipynb\" target=\"_parent\"><img src=\"https://colab.research.google.com/assets/colab-badge.svg\" alt=\"Open In Colab\"/></a>"
      ]
    },
    {
      "cell_type": "code",
      "execution_count": null,
      "metadata": {
        "id": "FssUk-rJ9gAj"
      },
      "outputs": [],
      "source": [
        "public class ProblemStatement7 {\n",
        "    public int returnNumber()\n",
        "    {\n",
        "        int c = 0;\n",
        "        float a = 7.8f;\n",
        "        float b = 4.4f;\n",
        "        // c=a+b;\n",
        "        return c;\n",
        "\n",
        "    }\n",
        "    public static void main(String[] args){\n",
        "        ProblemStatement7 ret = new ProblemStatement7();\n",
        "        ret.returnNumber();\n",
        "    }\n",
        "}\n"
      ]
    }
  ]
}