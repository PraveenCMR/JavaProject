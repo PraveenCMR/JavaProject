{
  "nbformat": 4,
  "nbformat_minor": 0,
  "metadata": {
    "colab": {
      "provenance": [],
      "authorship_tag": "ABX9TyNwe6JP1bddvrF9cO5mqByQ",
      "include_colab_link": true
    },
    "kernelspec": {
      "name": "python3",
      "display_name": "Python 3"
    },
    "language_info": {
      "name": "python"
    }
  },
  "cells": [
    {
      "cell_type": "markdown",
      "metadata": {
        "id": "view-in-github",
        "colab_type": "text"
      },
      "source": [
        "<a href=\"https://colab.research.google.com/github/PraveenCMR/JavaProject/blob/main/ProblemStatement12_For.ipynb\" target=\"_parent\"><img src=\"https://colab.research.google.com/assets/colab-badge.svg\" alt=\"Open In Colab\"/></a>"
      ]
    },
    {
      "cell_type": "code",
      "execution_count": null,
      "metadata": {
        "id": "Cs26Vg0mJMt0"
      },
      "outputs": [],
      "source": [
        "public class ProblemStatement12\n",
        "{\n",
        "\n",
        "        public static void main(String[] args)\n",
        "        {\n",
        "\n",
        "            ProblemStatement12.Print100_for();\n",
        "        }\n",
        "        public static void Print100_for()\n",
        "        {\n",
        "             for (int i = 1; i <= 100; i++)\n",
        "             {\n",
        "                        System.out.println(i);\n",
        "             }\n",
        "        }\n",
        "}\n",
        "\n",
        "\n",
        "\n"
      ]
    }
  ]
}