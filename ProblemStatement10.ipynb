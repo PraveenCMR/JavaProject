{
  "nbformat": 4,
  "nbformat_minor": 0,
  "metadata": {
    "colab": {
      "provenance": [],
      "authorship_tag": "ABX9TyNz1HFJ1mb+qhkoSemYySIp",
      "include_colab_link": true
    },
    "kernelspec": {
      "name": "python3",
      "display_name": "Python 3"
    },
    "language_info": {
      "name": "python"
    }
  },
  "cells": [
    {
      "cell_type": "markdown",
      "metadata": {
        "id": "view-in-github",
        "colab_type": "text"
      },
      "source": [
        "<a href=\"https://colab.research.google.com/github/PraveenCMR/JavaProject/blob/main/ProblemStatement10.ipynb\" target=\"_parent\"><img src=\"https://colab.research.google.com/assets/colab-badge.svg\" alt=\"Open In Colab\"/></a>"
      ]
    },
    {
      "cell_type": "code",
      "execution_count": null,
      "metadata": {
        "id": "MlAMFeKTNN_0"
      },
      "outputs": [],
      "source": [
        "public class ProblemStatement10 {\n",
        "    public static void main(String[] args) {\n",
        "        MyClass obj = new MyClass();\n",
        "\n",
        "        // Setting the value of privateData using the setter method\n",
        "        obj.setPrivateData(10);\n",
        "\n",
        "        // Accessing the value of privateData using the getter method\n",
        "        int value = obj.getPrivateData();\n",
        "        System.out.println(\"Value of privateData: \" + value);\n",
        "    }\n",
        "}\n",
        "\n",
        "\n",
        "class MyClass {\n",
        "    private int privateData;\n",
        "\n",
        "    // Accessor method to get the value of privateData\n",
        "    public int getPrivateData() {\n",
        "        return privateData;\n",
        "    }\n",
        "\n",
        "    // Mutator method to set the value of privateData\n",
        "    public void setPrivateData(int data) {\n",
        "        privateData = data;\n",
        "    }\n",
        "}\n",
        "\n",
        "\n"
      ]
    }
  ]
}