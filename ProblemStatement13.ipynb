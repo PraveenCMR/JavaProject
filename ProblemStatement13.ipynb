{
  "nbformat": 4,
  "nbformat_minor": 0,
  "metadata": {
    "colab": {
      "provenance": [],
      "authorship_tag": "ABX9TyMAHRp89XWbpVxsLijhpaCx",
      "include_colab_link": true
    },
    "kernelspec": {
      "name": "python3",
      "display_name": "Python 3"
    },
    "language_info": {
      "name": "python"
    }
  },
  "cells": [
    {
      "cell_type": "markdown",
      "metadata": {
        "id": "view-in-github",
        "colab_type": "text"
      },
      "source": [
        "<a href=\"https://colab.research.google.com/github/PraveenCMR/JavaProject/blob/main/ProblemStatement13.ipynb\" target=\"_parent\"><img src=\"https://colab.research.google.com/assets/colab-badge.svg\" alt=\"Open In Colab\"/></a>"
      ]
    },
    {
      "cell_type": "code",
      "execution_count": null,
      "metadata": {
        "id": "xof3G8sBKebU"
      },
      "outputs": [],
      "source": [
        "public class ProblemStatement13\n",
        "{\n",
        "    public static void ReverseString()\n",
        "    {\n",
        "        String originalString = \"Welcome To Java\";\n",
        "\n",
        "        // Convert the original string to a character array\n",
        "        char[] charArray = originalString.toCharArray();\n",
        "\n",
        "        // Reverse the character array\n",
        "        int start = 0;\n",
        "        int end = charArray.length - 1;\n",
        "        while (start < end) {\n",
        "            // Swap characters at start and end positions\n",
        "            char temp = charArray[start];\n",
        "            charArray[start] = charArray[end];\n",
        "            charArray[end] = temp;\n",
        "\n",
        "            // Move start and end pointers towards the center\n",
        "            start++;\n",
        "            end--;\n",
        "        }\n",
        "\n",
        "        // Convert the reversed character array back to a string\n",
        "        String reversedString = new String(charArray);\n",
        "\n",
        "        // Print the reversed string\n",
        "        System.out.println(\"Reversed String: \" + reversedString);\n",
        "    }\n",
        "\n",
        "    public static void main(String[] args)\n",
        "    {\n",
        "        ProblemStatement13.ReverseString();\n",
        "    }\n",
        "}\n",
        "\n",
        "\n"
      ]
    }
  ]
}